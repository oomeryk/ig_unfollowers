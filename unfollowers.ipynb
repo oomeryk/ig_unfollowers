{
 "cells": [
  {
   "cell_type": "code",
   "execution_count": null,
   "metadata": {},
   "outputs": [],
   "source": [
    "\n",
    "import instaloader\n",
    "L = instaloader.Instaloader()\n",
    "\n",
    "\n",
    "# Login\n",
    "\n",
    "username = \"\"\n",
    "password = \"\"\n",
    "L.login(username, password)  # (login)\n",
    " \n",
    "\n",
    "# Obtain profile metadata\n",
    "\n",
    "profile = instaloader.Profile.from_username(L.context, username)\n",
    "\n",
    "\n",
    "# Print list of followers\n",
    "\n",
    "follow_list = []\n",
    "count = 0\n",
    "for followee in profile.get_followers():\n",
    "    follow_list.append(followee.username)\n",
    "    file = open(\"prada_followers.txt\", \"a+\")\n",
    "    file.write(follow_list[count])\n",
    "    file.write(\"\\n\")\n",
    "    file.close()\n",
    "    #print(follow_list[count])\n",
    "    count = count + 1\n",
    "    \n",
    "    \n",
    "# Print list of followees\n",
    "\n",
    "followe_list = []\n",
    "countt = 0\n",
    "for followe in profile.get_followees():\n",
    "    followe_list.append(followe.username)\n",
    "    file = open(\"prada_followees.txt\", \"a+\")\n",
    "    file.write(followe_list[countt])\n",
    "    file.write(\"\\n\")\n",
    "    file.close()\n",
    "    #print(followe_list[countt])\n",
    "    countt = countt + 1\n",
    "    \n",
    "    \n",
    "# Difference of followers and followees = Unfollowers\n",
    "\n",
    "list(set(followe_list) - set(follow_list))\n"
   ]
  },
  {
   "cell_type": "code",
   "execution_count": null,
   "metadata": {},
   "outputs": [],
   "source": []
  }
 ],
 "metadata": {
  "kernelspec": {
   "display_name": "Python 3",
   "language": "python",
   "name": "python3"
  },
  "language_info": {
   "codemirror_mode": {
    "name": "ipython",
    "version": 3
   },
   "file_extension": ".py",
   "mimetype": "text/x-python",
   "name": "python",
   "nbconvert_exporter": "python",
   "pygments_lexer": "ipython3",
   "version": "3.8.5"
  }
 },
 "nbformat": 4,
 "nbformat_minor": 4
}
